{
 "cells": [
  {
   "metadata": {
    "ExecuteTime": {
     "end_time": "2024-07-15T19:19:48.160316Z",
     "start_time": "2024-07-15T19:19:48.127317Z"
    }
   },
   "cell_type": "code",
   "source": [
    "# Enable autoreload\n",
    "%load_ext autoreload\n",
    "%autoreload 2"
   ],
   "id": "d868c6019f04abe",
   "outputs": [
    {
     "name": "stdout",
     "output_type": "stream",
     "text": [
      "The autoreload extension is already loaded. To reload it, use:\n",
      "  %reload_ext autoreload\n"
     ]
    }
   ],
   "execution_count": 89
  },
  {
   "metadata": {},
   "cell_type": "markdown",
   "source": [
    "## Data preparation\n",
    "\n",
    "Walk through files containing all of my texts. "
   ],
   "id": "9b620c15713c4123"
  },
  {
   "metadata": {
    "ExecuteTime": {
     "end_time": "2024-07-15T19:19:49.751965Z",
     "start_time": "2024-07-15T19:19:48.161858Z"
    }
   },
   "cell_type": "code",
   "source": [
    "import pandas as pd\n",
    "\n",
    "all_texts = pd.read_json(\"imessages.jsonl\", lines=True)\n",
    "\n",
    "all_texts['timestamp'] = pd.to_datetime(all_texts['timestamp'])\n",
    "\n",
    "# Localize timestamp\n",
    "all_texts['timestamp'] = all_texts['timestamp'].dt.tz_localize('UTC')\n",
    "all_texts['timestamp'] = all_texts['timestamp'].dt.tz_convert('America/Los_Angeles')\n",
    "\n",
    "all_texts.dtypes"
   ],
   "id": "cf13ef6499f99cda",
   "outputs": [
    {
     "data": {
      "text/plain": [
       "message_id                                       int64\n",
       "text                                            object\n",
       "timestamp          datetime64[ns, America/Los_Angeles]\n",
       "is_from_me                                        bool\n",
       "display_name                                    object\n",
       "is_group_chat                                     bool\n",
       "chat_identifier                                 object\n",
       "dtype: object"
      ]
     },
     "execution_count": 90,
     "metadata": {},
     "output_type": "execute_result"
    }
   ],
   "execution_count": 90
  },
  {
   "metadata": {},
   "cell_type": "markdown",
   "source": "First, I'll filter out any messages without text or without chat IDs. This could be for any number of reasons, namely if the chat was deleted.",
   "id": "1da8e0103063f033"
  },
  {
   "metadata": {
    "ExecuteTime": {
     "end_time": "2024-07-15T19:19:49.858251Z",
     "start_time": "2024-07-15T19:19:49.752977Z"
    }
   },
   "cell_type": "code",
   "source": [
    "all_texts = all_texts[all_texts['text'].notna()].copy()\n",
    "all_texts = all_texts[all_texts['chat_identifier'].notna()]"
   ],
   "id": "414a5485a7d182fc",
   "outputs": [],
   "execution_count": 91
  },
  {
   "metadata": {},
   "cell_type": "markdown",
   "source": "I'll hash the phone numbers to anonymize the data.",
   "id": "3e71644d4eabccb7"
  },
  {
   "metadata": {
    "ExecuteTime": {
     "end_time": "2024-07-15T19:19:50.042967Z",
     "start_time": "2024-07-15T19:19:49.860495Z"
    }
   },
   "cell_type": "code",
   "source": [
    "from typing import List\n",
    "import hashlib\n",
    "\n",
    "def hash_and_truncate(value, length=8):\n",
    "    full_hash = hashlib.sha256(value.encode()).hexdigest()\n",
    "    return full_hash[:length]\n",
    "\n",
    "all_texts['chat_identifier'] = all_texts['chat_identifier'].apply(hash_and_truncate)\n",
    "\n",
    "all_texts.drop(['display_name'], axis=1, inplace=True)\n",
    "\n",
    "all_texts.dtypes"
   ],
   "id": "44f0baacf093c43d",
   "outputs": [
    {
     "data": {
      "text/plain": [
       "message_id                                       int64\n",
       "text                                            object\n",
       "timestamp          datetime64[ns, America/Los_Angeles]\n",
       "is_from_me                                        bool\n",
       "is_group_chat                                     bool\n",
       "chat_identifier                                 object\n",
       "dtype: object"
      ]
     },
     "execution_count": 92,
     "metadata": {},
     "output_type": "execute_result"
    }
   ],
   "execution_count": 92
  },
  {
   "metadata": {},
   "cell_type": "markdown",
   "source": [
    "## Emojis\n",
    "\n",
    "Extracting emojis and cleaning data."
   ],
   "id": "c070b8a5394e1e6c"
  },
  {
   "metadata": {
    "ExecuteTime": {
     "end_time": "2024-07-15T19:19:50.092621Z",
     "start_time": "2024-07-15T19:19:50.044014Z"
    }
   },
   "cell_type": "code",
   "source": [
    "import re\n",
    "\n",
    "with open('EMOJI_RAW.txt', 'r') as file:\n",
    "    EMOJI_RAW = file.read()\n",
    "\n",
    "EMOJI = re.compile(EMOJI_RAW)\n",
    "\n",
    "emoji_df = pd.read_csv(\"emoji_df.csv\")\n",
    "\n",
    "def extract_emojis(text):\n",
    "    return EMOJI.findall(text.lower())"
   ],
   "id": "a5ac2955666a3495",
   "outputs": [],
   "execution_count": 93
  },
  {
   "metadata": {
    "ExecuteTime": {
     "end_time": "2024-07-15T19:19:51.817373Z",
     "start_time": "2024-07-15T19:19:50.093885Z"
    }
   },
   "cell_type": "code",
   "source": [
    "!pip install \"swifter[notebook]\" tqdm\n",
    "\n",
    "import swifter"
   ],
   "id": "c5d6057339b25553",
   "outputs": [
    {
     "name": "stdout",
     "output_type": "stream",
     "text": [
      "Requirement already satisfied: swifter[notebook] in ./.venv/lib/python3.11/site-packages (1.4.0)\r\n",
      "Requirement already satisfied: tqdm in ./.venv/lib/python3.11/site-packages (4.66.4)\r\n",
      "Requirement already satisfied: pandas>=1.0.0 in ./.venv/lib/python3.11/site-packages (from swifter[notebook]) (2.2.2)\r\n",
      "Requirement already satisfied: psutil>=5.6.6 in /Users/colegawin/Library/Python/3.11/lib/python/site-packages (from swifter[notebook]) (5.9.5)\r\n",
      "Requirement already satisfied: dask[dataframe]>=2.10.0 in ./.venv/lib/python3.11/site-packages (from swifter[notebook]) (2024.7.0)\r\n",
      "Requirement already satisfied: ipywidgets>=7.0.0 in ./.venv/lib/python3.11/site-packages (from swifter[notebook]) (8.1.3)\r\n",
      "Requirement already satisfied: click>=8.1 in ./.venv/lib/python3.11/site-packages (from dask[dataframe]>=2.10.0->swifter[notebook]) (8.1.7)\r\n",
      "Requirement already satisfied: cloudpickle>=1.5.0 in ./.venv/lib/python3.11/site-packages (from dask[dataframe]>=2.10.0->swifter[notebook]) (3.0.0)\r\n",
      "Requirement already satisfied: fsspec>=2021.09.0 in ./.venv/lib/python3.11/site-packages (from dask[dataframe]>=2.10.0->swifter[notebook]) (2024.6.1)\r\n",
      "Requirement already satisfied: packaging>=20.0 in ./.venv/lib/python3.11/site-packages (from dask[dataframe]>=2.10.0->swifter[notebook]) (24.1)\r\n",
      "Requirement already satisfied: partd>=1.4.0 in ./.venv/lib/python3.11/site-packages (from dask[dataframe]>=2.10.0->swifter[notebook]) (1.4.2)\r\n",
      "Requirement already satisfied: pyyaml>=5.3.1 in ./.venv/lib/python3.11/site-packages (from dask[dataframe]>=2.10.0->swifter[notebook]) (6.0.1)\r\n",
      "Requirement already satisfied: toolz>=0.10.0 in ./.venv/lib/python3.11/site-packages (from dask[dataframe]>=2.10.0->swifter[notebook]) (0.12.1)\r\n",
      "Requirement already satisfied: importlib-metadata>=4.13.0 in ./.venv/lib/python3.11/site-packages (from dask[dataframe]>=2.10.0->swifter[notebook]) (8.0.0)\r\n",
      "Requirement already satisfied: dask-expr<1.2,>=1.1 in ./.venv/lib/python3.11/site-packages (from dask[dataframe]>=2.10.0->swifter[notebook]) (1.1.7)\r\n",
      "Requirement already satisfied: comm>=0.1.3 in /Users/colegawin/Library/Python/3.11/lib/python/site-packages (from ipywidgets>=7.0.0->swifter[notebook]) (0.1.3)\r\n",
      "Requirement already satisfied: ipython>=6.1.0 in /Users/colegawin/Library/Python/3.11/lib/python/site-packages (from ipywidgets>=7.0.0->swifter[notebook]) (8.14.0)\r\n",
      "Requirement already satisfied: traitlets>=4.3.1 in /Users/colegawin/Library/Python/3.11/lib/python/site-packages (from ipywidgets>=7.0.0->swifter[notebook]) (5.9.0)\r\n",
      "Requirement already satisfied: widgetsnbextension~=4.0.11 in ./.venv/lib/python3.11/site-packages (from ipywidgets>=7.0.0->swifter[notebook]) (4.0.11)\r\n",
      "Requirement already satisfied: jupyterlab-widgets~=3.0.11 in ./.venv/lib/python3.11/site-packages (from ipywidgets>=7.0.0->swifter[notebook]) (3.0.11)\r\n",
      "Requirement already satisfied: numpy>=1.23.2 in ./.venv/lib/python3.11/site-packages (from pandas>=1.0.0->swifter[notebook]) (2.0.0)\r\n",
      "Requirement already satisfied: python-dateutil>=2.8.2 in /Users/colegawin/Library/Python/3.11/lib/python/site-packages (from pandas>=1.0.0->swifter[notebook]) (2.8.2)\r\n",
      "Requirement already satisfied: pytz>=2020.1 in ./.venv/lib/python3.11/site-packages (from pandas>=1.0.0->swifter[notebook]) (2024.1)\r\n",
      "Requirement already satisfied: tzdata>=2022.7 in ./.venv/lib/python3.11/site-packages (from pandas>=1.0.0->swifter[notebook]) (2024.1)\r\n",
      "Requirement already satisfied: pyarrow>=7.0.0 in ./.venv/lib/python3.11/site-packages (from dask-expr<1.2,>=1.1->dask[dataframe]>=2.10.0->swifter[notebook]) (16.1.0)\r\n",
      "Requirement already satisfied: zipp>=0.5 in ./.venv/lib/python3.11/site-packages (from importlib-metadata>=4.13.0->dask[dataframe]>=2.10.0->swifter[notebook]) (3.19.2)\r\n",
      "Requirement already satisfied: backcall in /Users/colegawin/Library/Python/3.11/lib/python/site-packages (from ipython>=6.1.0->ipywidgets>=7.0.0->swifter[notebook]) (0.2.0)\r\n",
      "Requirement already satisfied: decorator in /Users/colegawin/Library/Python/3.11/lib/python/site-packages (from ipython>=6.1.0->ipywidgets>=7.0.0->swifter[notebook]) (5.1.1)\r\n",
      "Requirement already satisfied: jedi>=0.16 in /Users/colegawin/Library/Python/3.11/lib/python/site-packages (from ipython>=6.1.0->ipywidgets>=7.0.0->swifter[notebook]) (0.18.2)\r\n",
      "Requirement already satisfied: matplotlib-inline in /Users/colegawin/Library/Python/3.11/lib/python/site-packages (from ipython>=6.1.0->ipywidgets>=7.0.0->swifter[notebook]) (0.1.6)\r\n",
      "Requirement already satisfied: pickleshare in /Users/colegawin/Library/Python/3.11/lib/python/site-packages (from ipython>=6.1.0->ipywidgets>=7.0.0->swifter[notebook]) (0.7.5)\r\n",
      "Requirement already satisfied: prompt-toolkit!=3.0.37,<3.1.0,>=3.0.30 in ./.venv/lib/python3.11/site-packages (from ipython>=6.1.0->ipywidgets>=7.0.0->swifter[notebook]) (3.0.47)\r\n",
      "Requirement already satisfied: pygments>=2.4.0 in /Users/colegawin/Library/Python/3.11/lib/python/site-packages (from ipython>=6.1.0->ipywidgets>=7.0.0->swifter[notebook]) (2.15.1)\r\n",
      "Requirement already satisfied: stack-data in /Users/colegawin/Library/Python/3.11/lib/python/site-packages (from ipython>=6.1.0->ipywidgets>=7.0.0->swifter[notebook]) (0.6.2)\r\n",
      "Requirement already satisfied: pexpect>4.3 in /Users/colegawin/Library/Python/3.11/lib/python/site-packages (from ipython>=6.1.0->ipywidgets>=7.0.0->swifter[notebook]) (4.8.0)\r\n",
      "Requirement already satisfied: appnope in /Users/colegawin/Library/Python/3.11/lib/python/site-packages (from ipython>=6.1.0->ipywidgets>=7.0.0->swifter[notebook]) (0.1.3)\r\n",
      "Requirement already satisfied: locket in ./.venv/lib/python3.11/site-packages (from partd>=1.4.0->dask[dataframe]>=2.10.0->swifter[notebook]) (1.0.0)\r\n",
      "Requirement already satisfied: six>=1.5 in /Users/colegawin/Library/Python/3.11/lib/python/site-packages (from python-dateutil>=2.8.2->pandas>=1.0.0->swifter[notebook]) (1.16.0)\r\n",
      "Requirement already satisfied: parso<0.9.0,>=0.8.0 in /Users/colegawin/Library/Python/3.11/lib/python/site-packages (from jedi>=0.16->ipython>=6.1.0->ipywidgets>=7.0.0->swifter[notebook]) (0.8.3)\r\n",
      "Requirement already satisfied: ptyprocess>=0.5 in /Users/colegawin/Library/Python/3.11/lib/python/site-packages (from pexpect>4.3->ipython>=6.1.0->ipywidgets>=7.0.0->swifter[notebook]) (0.7.0)\r\n",
      "Requirement already satisfied: wcwidth in /Users/colegawin/Library/Python/3.11/lib/python/site-packages (from prompt-toolkit!=3.0.37,<3.1.0,>=3.0.30->ipython>=6.1.0->ipywidgets>=7.0.0->swifter[notebook]) (0.2.6)\r\n",
      "Requirement already satisfied: executing>=1.2.0 in /Users/colegawin/Library/Python/3.11/lib/python/site-packages (from stack-data->ipython>=6.1.0->ipywidgets>=7.0.0->swifter[notebook]) (1.2.0)\r\n",
      "Requirement already satisfied: asttokens>=2.1.0 in /Users/colegawin/Library/Python/3.11/lib/python/site-packages (from stack-data->ipython>=6.1.0->ipywidgets>=7.0.0->swifter[notebook]) (2.2.1)\r\n",
      "Requirement already satisfied: pure-eval in /Users/colegawin/Library/Python/3.11/lib/python/site-packages (from stack-data->ipython>=6.1.0->ipywidgets>=7.0.0->swifter[notebook]) (0.2.2)\r\n",
      "\r\n",
      "\u001B[1m[\u001B[0m\u001B[34;49mnotice\u001B[0m\u001B[1;39;49m]\u001B[0m\u001B[39;49m A new release of pip is available: \u001B[0m\u001B[31;49m23.2.1\u001B[0m\u001B[39;49m -> \u001B[0m\u001B[32;49m24.1.2\u001B[0m\r\n",
      "\u001B[1m[\u001B[0m\u001B[34;49mnotice\u001B[0m\u001B[1;39;49m]\u001B[0m\u001B[39;49m To update, run: \u001B[0m\u001B[32;49mpip install --upgrade pip\u001B[0m\r\n"
     ]
    }
   ],
   "execution_count": 94
  },
  {
   "metadata": {
    "ExecuteTime": {
     "end_time": "2024-07-15T19:21:20.696222Z",
     "start_time": "2024-07-15T19:19:51.819268Z"
    }
   },
   "cell_type": "code",
   "source": [
    "all_texts['emojis'] = all_texts['text'].swifter.apply(extract_emojis)\n",
    "all_texts.dtypes"
   ],
   "id": "142683244cf23bbf",
   "outputs": [
    {
     "data": {
      "text/plain": [
       "Pandas Apply:   0%|          | 0/345076 [00:00<?, ?it/s]"
      ],
      "application/vnd.jupyter.widget-view+json": {
       "version_major": 2,
       "version_minor": 0,
       "model_id": "f5dedd8687634092bc04c5a41ed54c52"
      }
     },
     "metadata": {},
     "output_type": "display_data"
    },
    {
     "data": {
      "text/plain": [
       "message_id                                       int64\n",
       "text                                            object\n",
       "timestamp          datetime64[ns, America/Los_Angeles]\n",
       "is_from_me                                        bool\n",
       "is_group_chat                                     bool\n",
       "chat_identifier                                 object\n",
       "emojis                                          object\n",
       "dtype: object"
      ]
     },
     "execution_count": 95,
     "metadata": {},
     "output_type": "execute_result"
    }
   ],
   "execution_count": 95
  },
  {
   "metadata": {
    "ExecuteTime": {
     "end_time": "2024-07-15T19:21:21.127046Z",
     "start_time": "2024-07-15T19:21:20.697793Z"
    }
   },
   "cell_type": "code",
   "source": [
    "from collections import Counter\n",
    "import numpy as np\n",
    "\n",
    "all_emojis = pd.Series(np.concatenate(all_texts['emojis'].values))\n",
    "\n",
    "emoji_counts = Counter(all_emojis)\n",
    "most_common_emojis = emoji_counts.most_common()\n",
    "\n",
    "most_common_emojis[:10]"
   ],
   "id": "80a28ad508c93da",
   "outputs": [
    {
     "data": {
      "text/plain": [
       "[('😭', 8250),\n",
       " ('💀', 2745),\n",
       " ('😁', 925),\n",
       " ('😀', 731),\n",
       " ('🙏', 723),\n",
       " ('😃', 721),\n",
       " ('💪', 641),\n",
       " ('😍', 493),\n",
       " ('🥲', 484),\n",
       " ('❤️', 427)]"
      ]
     },
     "execution_count": 96,
     "metadata": {},
     "output_type": "execute_result"
    }
   ],
   "execution_count": 96
  },
  {
   "metadata": {},
   "cell_type": "markdown",
   "source": [
    "Next, I want to remove all of the emojis from the messages. This is the column we'll use as training inputs for the predictor.\n",
    "\n",
    "`clean_text` + `emojis` = `text`"
   ],
   "id": "33f3c2f5f63763a0"
  },
  {
   "metadata": {
    "ExecuteTime": {
     "end_time": "2024-07-15T19:21:25.980324Z",
     "start_time": "2024-07-15T19:21:21.129720Z"
    }
   },
   "cell_type": "code",
   "source": [
    "# Convert the emojis column into a regex pattern\n",
    "emoji_pattern = '|'.join(map(re.escape, set(all_emojis)))\n",
    "\n",
    "# Remove emojis from the message column\n",
    "all_texts['clean_text'] = all_texts['text'].str.replace(emoji_pattern, '', regex=True)\n",
    "all_texts['clean_text'] = all_texts['clean_text'].str.rstrip()"
   ],
   "id": "e8b770ab6a115740",
   "outputs": [],
   "execution_count": 97
  },
  {
   "metadata": {
    "ExecuteTime": {
     "end_time": "2024-07-16T08:21:16.610753Z",
     "start_time": "2024-07-16T08:21:15.921181Z"
    }
   },
   "cell_type": "code",
   "source": "all_texts['last_emoji'] = all_texts['emojis'].apply(lambda x: x[0:1])",
   "id": "94671e96cdde8aad",
   "outputs": [],
   "execution_count": 114
  },
  {
   "metadata": {
    "ExecuteTime": {
     "end_time": "2024-07-16T08:21:16.672879Z",
     "start_time": "2024-07-16T08:21:16.632163Z"
    }
   },
   "cell_type": "code",
   "source": "all_texts.dtypes",
   "id": "e0ae71a9ab1ebdf",
   "outputs": [
    {
     "data": {
      "text/plain": [
       "message_id                                       int64\n",
       "text                                            object\n",
       "timestamp          datetime64[ns, America/Los_Angeles]\n",
       "is_from_me                                        bool\n",
       "is_group_chat                                     bool\n",
       "chat_identifier                                 object\n",
       "emojis                                          object\n",
       "clean_text                                      object\n",
       "last_emoji                                      object\n",
       "dtype: object"
      ]
     },
     "execution_count": 115,
     "metadata": {},
     "output_type": "execute_result"
    }
   ],
   "execution_count": 115
  },
  {
   "metadata": {
    "ExecuteTime": {
     "end_time": "2024-07-16T08:21:24.027149Z",
     "start_time": "2024-07-16T08:21:21.852525Z"
    }
   },
   "cell_type": "code",
   "source": [
    "# Save to filesystem\n",
    "all_texts.to_pickle('all_texts.pkl')"
   ],
   "id": "12d8075be8c3ff70",
   "outputs": [],
   "execution_count": 118
  },
  {
   "metadata": {},
   "cell_type": "code",
   "outputs": [],
   "execution_count": null,
   "source": "",
   "id": "4c016e52c449d2e9"
  }
 ],
 "metadata": {
  "kernelspec": {
   "display_name": "Python 3",
   "language": "python",
   "name": "python3"
  },
  "language_info": {
   "codemirror_mode": {
    "name": "ipython",
    "version": 2
   },
   "file_extension": ".py",
   "mimetype": "text/x-python",
   "name": "python",
   "nbconvert_exporter": "python",
   "pygments_lexer": "ipython2",
   "version": "2.7.6"
  }
 },
 "nbformat": 4,
 "nbformat_minor": 5
}
